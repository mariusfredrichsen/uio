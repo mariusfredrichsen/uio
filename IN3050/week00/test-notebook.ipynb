{
 "cells": [
  {
   "cell_type": "markdown",
   "metadata": {},
   "source": [
    "# Test of Jupyter Notebook\n",
    "In this course we will use Jupyter Notebooks for both the weekly exercises and the mandatory assignments. This notebook is for you to test that your environment is working, and to check your level of python proficiency."
   ]
  },
  {
   "cell_type": "markdown",
   "metadata": {},
   "source": [
    "## Edit cells\n",
    "To edit a markdown/text cell double click it and start typing. Try answering the question below."
   ]
  },
  {
   "cell_type": "markdown",
   "metadata": {},
   "source": [
    "Is it hard to edit text cells?\n",
    "\n",
    "**Answer:**\n",
    "\n",
    "To apply the markdown formating after adding your answer hit Ctrl+Enter while this cell is marked. For a handy Markdown cheat sheet click [here](https://github.com/adam-p/markdown-here/wiki/Markdown-Cheatsheet)."
   ]
  },
  {
   "cell_type": "markdown",
   "metadata": {},
   "source": [
    "## Code cells\n",
    "Code cell are cells where you can edit and run python code. Lets try to import some packages."
   ]
  },
  {
   "cell_type": "code",
   "execution_count": 9,
   "metadata": {},
   "outputs": [
    {
     "name": "stdout",
     "output_type": "stream",
     "text": [
      "numpy import: SUCCESS!\n",
      "tensorflow import: SUCCESS!\n",
      "sklearn import: SUCCESS!\n",
      "matplotlib import: SUCCESS!\n",
      "pandas import: SUCCESS!\n"
     ]
    }
   ],
   "source": [
    "# To execute the code in this cell mark it and hit Ctrl+Enter\n",
    "\n",
    "modules = [\"numpy\", \"tensorflow\", \"sklearn\", \"matplotlib\", \"pandas\"]\n",
    "for module in modules:\n",
    "    try:\n",
    "        __import__(module)\n",
    "        print(f\"{module} import: SUCCESS!\")\n",
    "    except ImportError as e:\n",
    "        print(f\"{module} import: FAILED! {e}\")"
   ]
  },
  {
   "cell_type": "markdown",
   "metadata": {},
   "source": [
    "If all imports are successfull you should be ready to start with the programming exercises. If you have any issues take a look at the contents of `anaconda-setup.md`, or ask for help at one of the group sessions."
   ]
  },
  {
   "cell_type": "markdown",
   "metadata": {},
   "source": [
    "# Intro/repetition of python, numpy and matplotlib\n",
    "This part is not mandatory, but it's a way of testing your python level. If you get through this part without much difficulty you are ready to take on the programming exercies in the next few weeks.\n",
    "\n",
    "To use numpy and matplotlib we must import the packages. You can give the imported packages any name you want, but `np` for numpy and `plt` for matplotlibs pyplot module is the \"canonical\" short names."
   ]
  },
  {
   "cell_type": "code",
   "execution_count": 11,
   "metadata": {},
   "outputs": [],
   "source": [
    "import numpy as np\n",
    "import matplotlib.pyplot as plt\n",
    "\n",
    "# This line is only used in the notebooks, and is not needed in a regular script.\n",
    "%matplotlib inline"
   ]
  },
  {
   "cell_type": "markdown",
   "metadata": {},
   "source": [
    "## Basic python\n",
    "This is not meant to be a complete python tutorial. If you find that you struggle to find the correct solutions to any of the basic python exercises you can go [here](https://www.learnpython.org/) for a much more indepth guide."
   ]
  },
  {
   "cell_type": "code",
   "execution_count": 21,
   "metadata": {},
   "outputs": [
    {
     "name": "stdout",
     "output_type": "stream",
     "text": [
      "The value of C is: 10\n"
     ]
    }
   ],
   "source": [
    "# Create a variable A with the value 5\n",
    "A = 5\n",
    "# Create a variable B with the value 2\n",
    "B = 2\n",
    "\n",
    "# TODO: Multiply A and B and assign the value to a new variable C\n",
    "C = A * B\n",
    "print(\"The value of C is:\", C)"
   ]
  },
  {
   "cell_type": "markdown",
   "metadata": {},
   "source": [
    "### Conditionals: if, else and control flow\n",
    "Replace `None`with the correct test."
   ]
  },
  {
   "cell_type": "code",
   "execution_count": 26,
   "metadata": {},
   "outputs": [
    {
     "name": "stdout",
     "output_type": "stream",
     "text": [
      "a is greater than b\n",
      "yeah!\n"
     ]
    }
   ],
   "source": [
    "a = 8\n",
    "b = 7\n",
    "\n",
    "# TODO: Test if a is greater than b\n",
    "if A > B:\n",
    "    print(\"a is greater than b\")\n",
    "\n",
    "# TODO: Test if a is equal to b\n",
    "if A == B:\n",
    "    print(\"a is equal to b\")\n",
    "\n",
    "# TODO: If a is greater or equal to b print \"yeah!\", if not print \"nah\"\n",
    "if A >= B:\n",
    "    print(\"yeah!\")\n",
    "else:\n",
    "    print(\"nah\")\n"
   ]
  },
  {
   "cell_type": "markdown",
   "metadata": {},
   "source": [
    "A simple `if else` can be done on one line. This is often called the ternary operator. In many other languages this operation is done with a special symbol, e.g. in C the symbol \"?\" is used."
   ]
  },
  {
   "cell_type": "code",
   "execution_count": 25,
   "metadata": {},
   "outputs": [
    {
     "name": "stdout",
     "output_type": "stream",
     "text": [
      "a: 8 b: 7\n",
      "my_value: 15\n"
     ]
    }
   ],
   "source": [
    "# \"Value if condition is true\" if \"condition\" else \"Value if condition is false\"\n",
    "my_value = a+b if a>=b else -1\n",
    "\n",
    "print(\"a:\", a, \"b:\", b)\n",
    "print(\"my_value:\", my_value)"
   ]
  },
  {
   "cell_type": "markdown",
   "metadata": {},
   "source": [
    "### Functions\n",
    "In python we use the `def` keyword to \"define\" functions, and the `return` keyword to return objects/values."
   ]
  },
  {
   "cell_type": "markdown",
   "metadata": {},
   "source": [
    "Create a function that takes in two parameters, sum them, and return the first parameter multiplied with the sum\n",
    "\n",
    "$$f(x, y) = (x+y)x$$\n"
   ]
  },
  {
   "cell_type": "code",
   "execution_count": 28,
   "metadata": {},
   "outputs": [
    {
     "name": "stdout",
     "output_type": "stream",
     "text": [
      "my_func(A, B) = 35\n"
     ]
    }
   ],
   "source": [
    "# TODO: Write the function\n",
    "def my_func(x, y):\n",
    "    z = (x + y)*x\n",
    "    return z\n",
    "\n",
    "\n",
    "print(\"my_func(A, B) =\", my_func(A, B))"
   ]
  },
  {
   "cell_type": "markdown",
   "metadata": {},
   "source": [
    "### Iterables: lists, dictionaries, sets, ...\n",
    "Python have extensive support for iterables. And they allow for some very powerfull constructs.\n",
    "\n",
    "Lists are created using brackets, `[]`, and can contain anything, e.g `a_list = [1, 2, \"a string\", True]`. Dictionaries and sets are created with curly brackets `{}`. A dictionary contains key, value pairs. The key is used to return the values. E.g `a_dict = {\"Norway\":Oslo, \"England\":London, 1:10}`. The keys can be any \"hashable\" python object, in practice ints and strings are the most used."
   ]
  },
  {
   "cell_type": "code",
   "execution_count": 30,
   "metadata": {},
   "outputs": [
    {
     "name": "stdout",
     "output_type": "stream",
     "text": [
      "The sum of all the elements in my_list is: 18\n"
     ]
    }
   ],
   "source": [
    "# TODO: Create a list with the elements 1, 2, 2, 3, and 5\n",
    "my_list = [1,2,2,3,5]\n",
    "\n",
    "# TODO: Add an extra 5 to the end of the list\n",
    "my_list.append(5)\n",
    "\n",
    "# TODO: Loop over the list and output the sum of all the elements\n",
    "my_sum = 0\n",
    "for elem in my_list:\n",
    "    my_sum += elem\n",
    "print(\"The sum of all the elements in my_list is:\", my_sum)"
   ]
  },
  {
   "cell_type": "code",
   "execution_count": 32,
   "metadata": {},
   "outputs": [
    {
     "name": "stdout",
     "output_type": "stream",
     "text": [
      "5 3\n",
      "2 2\n",
      "10 1\n"
     ]
    }
   ],
   "source": [
    "# TODO: Create a dictionary with entries a, b, and c, with the values 3, 2, and 1 respectively\n",
    "my_dict = {A: 3, B: 2, C:1}\n",
    "\n",
    "# TODO: Loop over the keys and values in the dictionary and print them side by side\n",
    "for key, value in my_dict.items():\n",
    "    print(key, value)"
   ]
  },
  {
   "cell_type": "markdown",
   "metadata": {},
   "source": [
    "Python have a special type called a set. A python set is a collection of unordered and unique elements."
   ]
  },
  {
   "cell_type": "code",
   "execution_count": 33,
   "metadata": {},
   "outputs": [
    {
     "name": "stdout",
     "output_type": "stream",
     "text": [
      "{1, 2, 'earth', 'water', 'fire', 'air'}\n",
      "{1, 2}\n",
      "{'earth', 'water', 'fire', 'air'}\n"
     ]
    }
   ],
   "source": [
    "# TODO: Create a set with the elements 'water', 'fire', 1 and 2\n",
    "my_set1 = {\"water\", \"fire\", 1, 2}\n",
    "\n",
    "# TODO: Create a set with the elements 'air', 'earth', 1 and 2\n",
    "my_set2 = {\"air\", \"earth\", 1, 2}\n",
    "\n",
    "# TODO: Print the union of the two sets\n",
    "print(my_set1 | my_set2)\n",
    "\n",
    "\n",
    "# TODO: Print the intersection\n",
    "print(my_set1 & my_set2)\n",
    "\n",
    "\n",
    "# TODO: Print the symetric_difference\n",
    "print(my_set1 ^ my_set2)\n"
   ]
  },
  {
   "cell_type": "code",
   "execution_count": 34,
   "metadata": {},
   "outputs": [
    {
     "name": "stdout",
     "output_type": "stream",
     "text": [
      "[1, 2, 2, 3, 5, 5]\n",
      "{1, 2, 3, 5}\n"
     ]
    }
   ],
   "source": [
    "# TODO: Create a set from the list \"my_list\" from earlier\n",
    "my_set = set(my_list)\n",
    "\n",
    "# Print the contents of my_set and notice that duplicates are removed\n",
    "print(my_list)\n",
    "print(my_set)"
   ]
  },
  {
   "cell_type": "markdown",
   "metadata": {},
   "source": [
    "#### Note on the empty list, dict and set\n",
    "Lists, dictionaries and sets can all be initialized empty."
   ]
  },
  {
   "cell_type": "code",
   "execution_count": 35,
   "metadata": {},
   "outputs": [],
   "source": [
    "# Empty list:\n",
    "empty_list = []\n",
    "\n",
    "# Empty dictionary:\n",
    "empty_dict = {}\n",
    "\n",
    "# Empty set:\n",
    "empty_set = set()"
   ]
  },
  {
   "cell_type": "markdown",
   "metadata": {},
   "source": [
    "Note that both dictionaries and sets use the curly brackets. So to make an empty set you should use the `set()` function. You can make an empty set with an empty list or tupple, but that might confuse other readers of your code, e.g."
   ]
  },
  {
   "cell_type": "code",
   "execution_count": 36,
   "metadata": {},
   "outputs": [
    {
     "name": "stdout",
     "output_type": "stream",
     "text": [
      "<class 'set'>\n"
     ]
    }
   ],
   "source": [
    "an_empty_set = {*[]}\n",
    "print(type(an_empty_set))"
   ]
  },
  {
   "cell_type": "markdown",
   "metadata": {},
   "source": [
    "### List and dictionary comprehension\n",
    "You can create lists and dictionaries on one line using what is called a list/dict comprehension."
   ]
  },
  {
   "cell_type": "code",
   "execution_count": 37,
   "metadata": {},
   "outputs": [
    {
     "name": "stdout",
     "output_type": "stream",
     "text": [
      "[0, 1, 2, 3, 4]\n",
      "{0: 0, 1: 1, 2: 4, 3: 9, 4: 16}\n"
     ]
    }
   ],
   "source": [
    "# Example of  a list comprehension\n",
    "a_list = [i for i in range(5)]\n",
    "print(a_list)\n",
    "\n",
    "# Example of a dict comprehension\n",
    "a_dict = {i:i*i for i in range(5)}\n",
    "print(a_dict)"
   ]
  },
  {
   "cell_type": "markdown",
   "metadata": {},
   "source": [
    "We can of course do much more than these basic comprehensions. We can also add conditions to the list and dictionary creation."
   ]
  },
  {
   "cell_type": "code",
   "execution_count": 38,
   "metadata": {},
   "outputs": [
    {
     "name": "stdout",
     "output_type": "stream",
     "text": [
      "[0, 1, 3, 4]\n",
      "{0: 0, 1: 1, 4: 16}\n"
     ]
    }
   ],
   "source": [
    "ints_but_not_2 = [i for i in range(5) if i != 2]\n",
    "print(ints_but_not_2)\n",
    "\n",
    "# All kinds of iterables can be used in a list or dict comprehension\n",
    "dict_without_2_or_3 = {i:i*i for i in ints_but_not_2 if i != 3}\n",
    "print(dict_without_2_or_3)"
   ]
  },
  {
   "cell_type": "markdown",
   "metadata": {},
   "source": [
    "Create a list with the values $100, 90, ... , 10$ using a list comprehension. Then use this list to create a dictionary with keys = $1, 2, ..., 10$ and the values from the list. There are several ways to do this."
   ]
  },
  {
   "cell_type": "code",
   "execution_count": 39,
   "metadata": {},
   "outputs": [
    {
     "name": "stdout",
     "output_type": "stream",
     "text": [
      "[10, 20, 30, 40, 50, 60, 70, 80, 90, 100]\n",
      "{1: 10, 2: 20, 3: 30, 4: 40, 5: 50, 6: 60, 7: 70, 8: 80, 9: 90, 10: 100}\n"
     ]
    }
   ],
   "source": [
    "# TODO: Create a list with the values 100, 90, ..., 10 using a list comprehension\n",
    "my_list = [i*10 for i in range(1, 11)]\n",
    "\n",
    "# TODO: Create a dictionary with keys 1, 2, ..., 10 and values from my_list\n",
    "my_dict = {i//10:i for i in my_list}\n",
    "\n",
    "\n",
    "print(my_list)\n",
    "print(my_dict)"
   ]
  },
  {
   "cell_type": "markdown",
   "metadata": {},
   "source": [
    "We can do a lot more with list and dict comprehensions, they can be nested as an example, but for now we will move on to:"
   ]
  },
  {
   "cell_type": "markdown",
   "metadata": {},
   "source": [
    "## numpy\n",
    "Numpy is short for Numerical python and is a powerfull library for scientific computing. For a more comprehensive guide you can go [here](https://numpy.org/devdocs/user/quickstart.html).\n",
    "\n",
    "To start of we are going to create some arrays."
   ]
  },
  {
   "cell_type": "code",
   "execution_count": 44,
   "metadata": {},
   "outputs": [
    {
     "name": "stdout",
     "output_type": "stream",
     "text": [
      "min: 0.0 max: 6.283185307179586 shape: (100,)\n",
      "[0 1 2 3 4 5 6 7 8 9]\n",
      "[[0. 0.]\n",
      " [0. 0.]\n",
      " [0. 0.]\n",
      " [0. 0.]\n",
      " [0. 0.]]\n"
     ]
    }
   ],
   "source": [
    "# TODO: Create an array with 100 points evenly spaced from 0 to 2*pi\n",
    "x1 = np.linspace(0, 2*np.pi, 100)\n",
    "print(\"min:\", np.min(x1), \"max:\", np.max(x1), \"shape:\", x1.shape)\n",
    "\n",
    "# TODO: Create an array with integer values 0, 1, ..., 9\n",
    "x2 = np.arange(10)\n",
    "print(x2)\n",
    "\n",
    "# TODO: Create a 2D array of shape (5, 2), 5 rows and 2 columns, filled with zeros\n",
    "x3 = np.zeros((5,2))\n",
    "print(x3)"
   ]
  },
  {
   "cell_type": "markdown",
   "metadata": {},
   "source": [
    "Numpy arrays support the regular arithmetic operations under some conditions. Most of the operations are done \"element wise\". Linear algebra operations are supported with methods and functions."
   ]
  },
  {
   "cell_type": "code",
   "execution_count": 53,
   "metadata": {},
   "outputs": [
    {
     "name": "stdout",
     "output_type": "stream",
     "text": [
      "mat1:\n",
      " [[0 1 2]\n",
      " [3 4 5]]\n",
      "mat2:\n",
      " [[0 3]\n",
      " [1 4]\n",
      " [2 5]]\n",
      "Element wise addition:\n",
      " [[ 0  2  4]\n",
      " [ 6  8 10]]\n",
      "Element wise multiplication:\n",
      " [[ 0  1  4]\n",
      " [ 9 16 25]]\n"
     ]
    }
   ],
   "source": [
    "mat1 = np.arange(6).reshape(2, 3)\n",
    "print(\"mat1:\\n\",mat1)\n",
    "\n",
    "mat2 = mat1.T # This creates a transposed \"view\" of mat1, but not a copy! changes to mat2 affect mat1!\n",
    "print(\"mat2:\\n\", mat2)\n",
    "\n",
    "# TODO: Add mat1 and the transpose of mat2\n",
    "out = np.add(mat1, mat2.T)\n",
    "print(\"Element wise addition:\\n\", out)\n",
    "\n",
    "# TODO: Multiply mat1 with it self element wise.\n",
    "out = mat1*mat1\n",
    "print(\"Element wise multiplication:\\n\", out)"
   ]
  },
  {
   "cell_type": "code",
   "execution_count": 55,
   "metadata": {},
   "outputs": [
    {
     "name": "stdout",
     "output_type": "stream",
     "text": [
      "np.matmul(mat1, mat2):\n",
      " [[ 5 14]\n",
      " [14 50]]\n",
      "mat1@mat2:\n",
      " [[ 5 14]\n",
      " [14 50]]\n",
      "np.arange(3).reshape(3, 1):\n",
      " [[0]\n",
      " [1]\n",
      " [2]]\n",
      "Exception from operation vec1@mat1:\n",
      "matmul: Input operand 1 has a mismatch in its core dimension 0, with gufunc signature (n?,k),(k,m?)->(n?,m?) (size 2 is different from 1)\n",
      "But the operation works the other way around:\n",
      "[[ 5]\n",
      " [14]]\n"
     ]
    }
   ],
   "source": [
    "# Matrix multiplication can be done with either np.matmul() or with \"@\".\n",
    "mat3 = np.matmul(mat1, mat2)\n",
    "mat4 = mat1@mat2\n",
    "\n",
    "print(\"np.matmul(mat1, mat2):\\n\", mat3)\n",
    "print(\"mat1@mat2:\\n\", mat4)\n",
    "\n",
    "# Column vectors in numpy are just regular arrays with shape (n, 1).\n",
    "vec1 = np.arange(3).reshape(3, 1)\n",
    "print(\"np.arange(3).reshape(3, 1):\\n\", vec1)\n",
    "\n",
    "# The ordering of the arguments matters when doing matrix multiplication. A@B != B@A\n",
    "try:\n",
    "    vec1@mat1\n",
    "except Exception as e:\n",
    "    print(\"Exception from operation vec1@mat1:\")\n",
    "    print(e)\n",
    "    print(\"But the operation works the other way around:\")\n",
    "    print(mat1@vec1)"
   ]
  },
  {
   "cell_type": "markdown",
   "metadata": {},
   "source": [
    "### Broadcasting\n",
    "Arithmetic between arrays of different sizes are possible in numpy if the two arrays can be broadcast together. For the detail look at the [docs](https://docs.scipy.org/doc/numpy/user/basics.broadcasting.html).\n",
    "\n",
    "A short summary is that a smaller array can be \"broadcast\" unto a larger array during arithmetic operations. You can for instance subtract a vector from all the rows (or cloumns) in a matrix:"
   ]
  },
  {
   "cell_type": "code",
   "execution_count": 56,
   "metadata": {},
   "outputs": [
    {
     "name": "stdout",
     "output_type": "stream",
     "text": [
      "mat1:\n",
      "[[0 1 2]\n",
      " [3 4 5]] \n",
      "\n",
      "[[0 0 0]\n",
      " [3 3 3]]\n",
      "[[0 1 2]\n",
      " [2 3 4]]\n"
     ]
    }
   ],
   "source": [
    "print(\"mat1:\")\n",
    "print(mat1, '\\n')\n",
    "print(mat1 - vec1.T) # Subtracting vec1 from all the rows.\n",
    "\n",
    "vec2 = np.arange(2).reshape(2, 1)\n",
    "print(mat1 - vec2)   # Subtracting vec2 from all the columns."
   ]
  },
  {
   "cell_type": "markdown",
   "metadata": {},
   "source": [
    "Numpy contains functions and methods for many usefull mathematical operations like sum, transpose, dot products, powers, as well as all the trigonometric operations, sin, cos, tan, sinh, cosh, ..., and much much more.\n",
    "\n",
    "The full [documentation](https://docs.scipy.org/doc/numpy/index.html) is a nice reference."
   ]
  },
  {
   "cell_type": "markdown",
   "metadata": {},
   "source": [
    "## matplotlib\n",
    "matplotlib is a plotting library. In this course you will use it frequently to visualize data. Again, we won't do a comprehensive review here. It's often a good idea to check out the matplotlib [gallery](https://matplotlib.org/gallery.html) when you are wondering how to make a plot. There you can find example code that can be adapted to the case you are working on.\n",
    "\n",
    "Here we will make three basic plots. A scatter plot, a line plot, and a histogram using numpy and matplotlibs pyplot module."
   ]
  },
  {
   "cell_type": "markdown",
   "metadata": {},
   "source": [
    "### Scatter plot\n",
    "A scatter plot is simply a collection of points \"scatered\" on a graph. As input we give two arrays with the x and y coordinates of our points. There are also a bunch of formating parameters that controll the look of the points and the plot. Check out the [docmentation](https://matplotlib.org/3.1.1/api/_as_gen/matplotlib.pyplot.scatter.html) and create a basic scatter plot. You don't need to do any fancy formating."
   ]
  },
  {
   "cell_type": "code",
   "execution_count": 59,
   "metadata": {},
   "outputs": [
    {
     "data": {
      "text/plain": [
       "<matplotlib.collections.PathCollection at 0x7fe55f0e4090>"
      ]
     },
     "execution_count": 59,
     "metadata": {},
     "output_type": "execute_result"
    },
    {
     "data": {
      "image/png": "[encoded data removed]",
      "text/plain": [
       "<Figure size 640x480 with 1 Axes>"
      ]
     },
     "metadata": {},
     "output_type": "display_data"
    }
   ],
   "source": [
    "x_scatter = np.random.normal(size=100)\n",
    "y_scatter = np.random.normal(loc=5, scale=10, size=100)\n",
    "\n",
    "# TODO: Plot the points defined by x_scatter and y_scatter\n",
    "plt.scatter(x_scatter, y_scatter)"
   ]
  },
  {
   "cell_type": "markdown",
   "metadata": {},
   "source": [
    "### line plot\n",
    "To make a line plot you must specify two arrays with $x$ and $y$ values just as for a scatter plot. But with this plot matplotlib assumes that the points are ordered and draws a line between them. First you should create an array with values evenly spaced in the range $x \\in [0, 2\\pi]$, and then two arrays $y_1=\\sin(x)$, and $y_2=\\cos(x)$"
   ]
  },
  {
   "cell_type": "code",
   "execution_count": 62,
   "metadata": {},
   "outputs": [],
   "source": [
    "# TODO: Create an array with 100 values evenly spaced from 0 to 2*pi. You can use numpy for this.\n",
    "x_line = np.linspace(0, 2*np.pi, 100)\n",
    "\n",
    "# TODO:  Create two arrays with sin and cos values from using the values in x_line\n",
    "y1_line = [np.sin(y) for y in x_line]\n",
    "y2_line = [np.cos(y) for y in x_line]"
   ]
  },
  {
   "cell_type": "markdown",
   "metadata": {},
   "source": [
    "Now that we have our data we can plot it. Basic plt.plot() [Documentation](https://matplotlib.org/3.1.1/api/_as_gen/matplotlib.pyplot.plot.html)."
   ]
  },
  {
   "cell_type": "code",
   "execution_count": 64,
   "metadata": {},
   "outputs": [
    {
     "data": {
      "text/plain": [
       "Text(0, 0.5, 'f(x)')"
      ]
     },
     "execution_count": 64,
     "metadata": {},
     "output_type": "execute_result"
    },
    {
     "data": {
      "image/png": "[encoded data removed]",
      "text/plain": [
       "<Figure size 640x480 with 1 Axes>"
      ]
     },
     "metadata": {},
     "output_type": "display_data"
    }
   ],
   "source": [
    "# TODO: Plot x and y1, and give the line a label=\"sin(x)\"\n",
    "plt.plot(x_line, y1_line, label=\"sin(x)\")\n",
    "\n",
    "# TODO: Plot x and y2, and give the line a label=\"cos(x)\"\n",
    "plt.plot(x_line, y2_line, label=\"cos(x)\")\n",
    "\n",
    "# Some small steps can be taken to make the plot more appealing and easy to read\n",
    "# Add a grid to the background\n",
    "plt.grid()\n",
    "\n",
    "# Show the line label in the plot\n",
    "plt.legend()\n",
    "\n",
    "# Set axis labels\n",
    "plt.xlabel(\"x\")\n",
    "plt.ylabel(\"f(x)\")"
   ]
  },
  {
   "cell_type": "markdown",
   "metadata": {},
   "source": [
    "### Basic histogram\n",
    "Use numpy to draw 1000 samples from a random normal distribution\n",
    "\n",
    "$$X \\sim \\mathcal{N}(\\mu = 0, \\sigma=1)$$\n",
    "\n",
    "Plot a histogram of the drawn samples. You can find the documentation for the histogram plotting function [here](https://matplotlib.org/3.1.1/api/_as_gen/matplotlib.pyplot.hist.html). To draw random samples from a normal distribution [this](https://docs.scipy.org/doc/numpy-1.15.0/reference/generated/numpy.random.normal.html) function might be of help."
   ]
  },
  {
   "cell_type": "code",
   "execution_count": 66,
   "metadata": {},
   "outputs": [
    {
     "data": {
      "text/plain": [
       "(array([  2.,   7.,  36., 131., 228., 293., 197.,  80.,  22.,   4.]),\n",
       " array([-3.67831564, -2.97795875, -2.27760187, -1.57724498, -0.87688809,\n",
       "        -0.1765312 ,  0.52382569,  1.22418258,  1.92453947,  2.62489636,\n",
       "         3.32525325]),\n",
       " <BarContainer object of 10 artists>)"
      ]
     },
     "execution_count": 66,
     "metadata": {},
     "output_type": "execute_result"
    },
    {
     "data": {
      "image/png": "[encoded data removed]",
      "text/plain": [
       "<Figure size 640x480 with 1 Axes>"
      ]
     },
     "metadata": {},
     "output_type": "display_data"
    }
   ],
   "source": [
    "# TODO: Draw 1000 samples from a random normal distribution.\n",
    "x_hist = np.random.normal(0, 1, 1000)\n",
    "\n",
    "# TODO: Plot a histogram of the values in x_hist\n",
    "plt.hist(x_hist)"
   ]
  },
  {
   "cell_type": "markdown",
   "metadata": {},
   "source": [
    "# Summary\n",
    "This concludes the introduction to Jupyter Notebooks and python for IN3050/4050. If you struggled to complete this notebook it is a good idea to look at the references provided for the parts you struggled with and spend some time to get familiar with the consepts. In the exercises in the weeks to come we will assume you are familiar with the syntax for basic python, numpy and matplotlib.\n",
    "\n",
    "If you have any questions you can of course always bring them up during the group sessions :)"
   ]
  },
  {
   "cell_type": "code",
   "execution_count": null,
   "metadata": {},
   "outputs": [],
   "source": []
  }
 ],
 "metadata": {
  "kernelspec": {
   "display_name": "Python 3 (ipykernel)",
   "language": "python",
   "name": "python3"
  },
  "language_info": {
   "codemirror_mode": {
    "name": "ipython",
    "version": 3
   },
   "file_extension": ".py",
   "mimetype": "text/x-python",
   "name": "python",
   "nbconvert_exporter": "python",
   "pygments_lexer": "ipython3",
   "version": "3.11.10"
  }
 },
 "nbformat": 4,
 "nbformat_minor": 4
}
