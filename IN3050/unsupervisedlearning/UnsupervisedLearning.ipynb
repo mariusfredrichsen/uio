{
 "cells": [
  {
   "cell_type": "markdown",
   "metadata": {},
   "source": [
    "# Unsupervised Learning"
   ]
  },
  {
   "cell_type": "markdown",
   "metadata": {},
   "source": [
    "Below are some suggested libraries that can help you with this exercise.\n",
    "\n",
    "First make sure they are installed:"
   ]
  },
  {
   "cell_type": "code",
   "execution_count": null,
   "metadata": {},
   "outputs": [],
   "source": [
    "%pip install numpy pandas matplotlib scikit-learn"
   ]
  },
  {
   "cell_type": "markdown",
   "metadata": {},
   "source": [
    "And import them if needed:"
   ]
  },
  {
   "cell_type": "code",
   "execution_count": null,
   "metadata": {},
   "outputs": [],
   "source": [
    "import numpy as np\n",
    "import pandas as pd\n",
    "import matplotlib.pyplot as plt"
   ]
  },
  {
   "cell_type": "markdown",
   "metadata": {},
   "source": [
    "## Visualization\n",
    "\n",
    "Alice and Bob, your colleagues from the astrophysics department, have given you a collection of astronomical data\\[1\\] describing exoplanets in different star systems. Each exoplanet is described by the distance from its orbiting star in AU (astronomical units), its mass (as multiples of the Earth), and the degree of light reflection (as an albedo integer). You input the data in a list of dictionaries."
   ]
  },
  {
   "cell_type": "code",
   "execution_count": null,
   "metadata": {},
   "outputs": [],
   "source": [
    "data = [{'name': 'HD 209458 b', 'AU':2, 'mass':3, 'albedo':7},\n",
    "       {'name': 'HD 189733 b', 'AU':5, 'mass':3, 'albedo':3},\n",
    "       {'name': '51 Pegasi b', 'AU':7, 'mass':2, 'albedo':5},\n",
    "       {'name': 'PSR B1257+12 B', 'AU':3, 'mass':5, 'albedo':6},\n",
    "       {'name': 'PSR B1257+12 C', 'AU':5, 'mass':4, 'albedo':5},\n",
    "       {'name': 'OGLE-TR-56 b', 'AU':7, 'mass':4, 'albedo':3},\n",
    "       {'name': 'Fomalhaut b', 'AU':3, 'mass':3, 'albedo':8},\n",
    "       {'name': '2M1207 b', 'AU':4, 'mass':3, 'albedo':7}]"
   ]
  },
  {
   "cell_type": "markdown",
   "metadata": {},
   "source": [
    "**Transform the data into a pandas dataframe (or a different way you like to view your data) and print it out.**"
   ]
  },
  {
   "cell_type": "markdown",
   "metadata": {},
   "source": [
    "Some of these data (about half) have been collected using the *transit detection method* and others (about half) using an *infrared detection methods*. Alice and Bob know that these two methods are sensitive to exoplanets with different features, but they do not know which sample has been collected with which method."
   ]
  },
  {
   "cell_type": "markdown",
   "metadata": {},
   "source": [
    "Alice argues that looking at *AU* and *albedo* may help them infer which observations were performed with which techniques; Bob holds that looking at *AU* and *mass* may provide a better perspective to group the exoplanets by their discovery method."
   ]
  },
  {
   "cell_type": "markdown",
   "metadata": {},
   "source": [
    "**Plot the data first according to Alice's hypothesis and then Bob's hypothesis. Which hypothesis seems more likely?**"
   ]
  },
  {
   "cell_type": "markdown",
   "metadata": {},
   "source": [
    "## K-means\n",
    "\n",
    "To give more grounding to your conclusions, you decide to run the *k-means algorithm* on your data using two clusters, one for each detection method. Let us call one cluster the BLUE cluster, and the other one the RED cluster."
   ]
  },
  {
   "cell_type": "markdown",
   "metadata": {},
   "source": [
    "**Run three iterations of k-means (assignment, recomputation of the centroids) on Alice's and Bob's data.**"
   ]
  },
  {
   "cell_type": "markdown",
   "metadata": {},
   "source": [
    "### Assignment helper function\n",
    "First, define a helper function for the *assignment step*. We want the function to satisfy the following requirements:\n",
    "- The input are the coordinate of the BLUE cluster, the coordinate of the RED cluster, and the datapoints.\n",
    "- The ouptut is a binary array, 0 denoting an assignment to the BLUE cluster and 1 denoting the assignment to the RED cluster.\n",
    "- In the assignment phase, use as a *distance function* the *Manhattan distance* $D_{Man} \\left[x_i,x_j\\right]$, that gives you the number of straight segments necessary to get from one point to the other (see example in note \\[2\\]). You can implement your own *Manhattan distance* function or use *sklearn.metrics.pairwise.manhattan_distances()* function.\n",
    "- If a point is the same distance from the center of both clusters, assign it to the BLUE cluster."
   ]
  },
  {
   "cell_type": "code",
   "execution_count": null,
   "metadata": {},
   "outputs": [],
   "source": [
    "from sklearn.metrics.pairwise import manhattan_distances as md"
   ]
  },
  {
   "cell_type": "code",
   "execution_count": null,
   "metadata": {},
   "outputs": [],
   "source": [
    "def assignment(blue_cluster,red_cluster,data, verbose=True):\n",
    "    #TODO: Your code goes here.\n",
    "    pass"
   ]
  },
  {
   "cell_type": "markdown",
   "metadata": {},
   "source": [
    "### Recomputation helper function\n",
    "\n",
    "Now define a helper function for the *recomputation step*. We want the function to satisfy the following requirements:\n",
    "- The input are datapoints in the BLUE cluster and the datapoints in the RED cluster.\n",
    "- The ouptuts are the coordinates of the new BLUE centroid and the coordinates of the RED centroid.\n",
    "- In the recomputation of the centroids, round the values off to the nearest integer, e.g. $5.3 \\rightarrow 5$, $2.5 \\rightarrow 3$, $3.8 \\rightarrow 4$."
   ]
  },
  {
   "cell_type": "code",
   "execution_count": null,
   "metadata": {},
   "outputs": [],
   "source": [
    "def recomputation(blue_datapoints,red_datapoints, verbose=True):\n",
    "    #TODO: Your code goes here.\n",
    "    pass"
   ]
  },
  {
   "cell_type": "markdown",
   "metadata": {},
   "source": [
    "### K-means on Alice's data\n",
    "\n",
    "Start the algorithm initializing the BLUE cluster at (3,2), and the RED cluster at (8,3). Then run through 3 iterations of assignment and recomputation, using Alice's data. Plot the data, centroids and indicate which cluster each datapoint belongs to for each iteration. Hint: It is practical to color each datapoint according to which cluster it currently belongs to."
   ]
  },
  {
   "cell_type": "markdown",
   "metadata": {},
   "source": [
    "### K-means on Bob's data\n",
    "\n",
    "Repeat the above, on Bob's data, again initializing the BLUE cluster at (3,2), and the RED cluster at (8,3)."
   ]
  },
  {
   "cell_type": "markdown",
   "metadata": {},
   "source": [
    "**Do your results agree with your conclusions from the visualization exercise?**"
   ]
  },
  {
   "cell_type": "markdown",
   "metadata": {},
   "source": [
    "## Quantitative Evaluation\n",
    "\n",
    "Bob and Alice look very interested in your results: it seems that clustering based on a given pair of features is better than clustering on another set of features. However, they are uneasy accepting a solution based on an intuitive visualization. They ask if your results may be given a quantitative explanation."
   ]
  },
  {
   "cell_type": "markdown",
   "metadata": {},
   "source": [
    "First, write down the final centroid computed under Alice's and Bob's hypotheses."
   ]
  },
  {
   "cell_type": "code",
   "execution_count": null,
   "metadata": {},
   "outputs": [],
   "source": [
    "#TODO: Replace with the centroid locations you computed above.\n",
    "final_alice_clusters = [[0,0],[0,0]]\n",
    "final_bob_clusters = [[0,0],[0,0]]"
   ]
  },
  {
   "cell_type": "markdown",
   "metadata": {},
   "source": [
    "You think that an easy way would be to compute the *separation* between the clusters, that is computing the distance between the blue point that is closest to the red cluster and the red point that is closer to the blue cluster. This measure would quantify the gap between the two clusters."
   ]
  },
  {
   "cell_type": "markdown",
   "metadata": {},
   "source": [
    "**Compute the separation for the clustering of Alice's data and Bob's data.**"
   ]
  },
  {
   "cell_type": "markdown",
   "metadata": {},
   "source": [
    "This measure would quantify the gap between the two clusters."
   ]
  },
  {
   "cell_type": "markdown",
   "metadata": {},
   "source": [
    "**What would you conclude from the computation of cluster separation?**"
   ]
  },
  {
   "cell_type": "markdown",
   "metadata": {},
   "source": [
    "Yet, you feel this measure is not very robust."
   ]
  },
  {
   "cell_type": "markdown",
   "metadata": {},
   "source": [
    "**What problem could you imagine having when using cluster separation?**"
   ]
  },
  {
   "cell_type": "markdown",
   "metadata": {},
   "source": [
    "You ask your colleagues, and Yoshua explains to you that there are two important measures to evaluate clustering: the *inter-cluster distance*, measuring how separate two clusters are, and the *intra-cluster distance*, measuring how compact a cluster is."
   ]
  },
  {
   "cell_type": "markdown",
   "metadata": {},
   "source": [
    "**Compute the inter-cluster distance for the clustering of Alice's data and Bob's data (do not round to integers).**"
   ]
  },
  {
   "cell_type": "markdown",
   "metadata": {},
   "source": [
    "To compute inter-cluster distance simply compute the distance between the centroid of the red and blue cluster: $ D_{inter} \\left[ c_{blue}, c_{red} \\right] = D_{Man} \\left[ t_{blue}, t_{red} \\right]$, where $c$ is a cluster and $t$ is a centroid."
   ]
  },
  {
   "cell_type": "markdown",
   "metadata": {},
   "source": [
    "**Compute the intra-cluster distance for the clustering of Alice's data and Bob's data (do not round to integers).**"
   ]
  },
  {
   "cell_type": "markdown",
   "metadata": {},
   "source": [
    "Differently from the inter-cluster distance, the intra-cluster must be computed for each cluster individually. For each cluster, red or blue, compute the average distance of all the cluster points from the cluster center. For the blue cluster: $ D_{intra} \\left[ c_{blue} \\right] = \\frac{1}{N_{blue}}\\sum_{x\\in c_{blue}}D\\left[x,t_{blue}\\right]$; similarly for the red cluster. Average then the intra-cluster distance of the blue and red cluster to get the overall intra-cluster distance for Alice and Bob: $\\frac{1}{2} \\left( D_{intra} \\left[ c_{blue} \\right] + D_{intra} \\left[ c_{red} \\right]\\right)$."
   ]
  },
  {
   "cell_type": "markdown",
   "metadata": {},
   "source": [
    "A good cluster is a cluster that clumps its point tightly close to each other, and that is far removed from other clusters. It is natural to assess the goodness of your clustering as the ratio between inter-cluster distance (which you want to be big) and intra-cluster distance (which you want to be small). "
   ]
  },
  {
   "cell_type": "markdown",
   "metadata": {},
   "source": [
    "**Compute the ratio of inter-cluster distance and intra-cluster distance for the clustering of Alice's data and Bob's data (do not round to integers). How does this confirm/reject your previous conclusions?**"
   ]
  },
  {
   "cell_type": "markdown",
   "metadata": {},
   "source": [
    "## Clustering new data\n",
    "\n",
    "Alice and Bob are happy with your solution, and decide to adopt the clustering you argued being the best one. From now on, we will use only the clustering that you proved being the best. Now new data has come in:"
   ]
  },
  {
   "cell_type": "code",
   "execution_count": null,
   "metadata": {},
   "outputs": [],
   "source": [
    "newdata = [{'name': 'Beta Pictoris c', 'AU':9, 'mass':3, 'albedo':6},\n",
    "       {'name': 'K2-282c', 'AU':6, 'mass':5, 'albedo':7},\n",
    "       {'name': 'Kepler-1658b', 'AU':2, 'mass':2, 'albedo':8}]"
   ]
  },
  {
   "cell_type": "markdown",
   "metadata": {},
   "source": [
    "**Start from the chosen clustering, plot the new data points and assign them to the correct cluster. You can use your assignment-function from above. Plot the new data and assignments (along with the old data).**"
   ]
  },
  {
   "cell_type": "markdown",
   "metadata": {},
   "source": [
    "## Outliers\n",
    "\n",
    "There is a further recording, coming from another institution, that Alice and Bob would like to process:"
   ]
  },
  {
   "cell_type": "code",
   "execution_count": null,
   "metadata": {},
   "outputs": [],
   "source": [
    "lastdata = [{'name': 'Luyten 98-59 d', 'AU':22, 'mass':3, 'albedo':3}]"
   ]
  },
  {
   "cell_type": "markdown",
   "metadata": {},
   "source": [
    "Alice and Bob are not certain about the quality of this recording and ask your opinion."
   ]
  },
  {
   "cell_type": "markdown",
   "metadata": {},
   "source": [
    "**Use the chosen clustering from above, and plot the new data point together with the old data. What do you think about this observation?**"
   ]
  },
  {
   "cell_type": "markdown",
   "metadata": {},
   "source": [
    "For your own interest, you decide to analyze how this new data point will affect the clustering process."
   ]
  },
  {
   "cell_type": "markdown",
   "metadata": {},
   "source": [
    "**Restart from the original data set of eight data points; place the centroids of the two clusters as you computed them for those eight data points; add the new data on Luyten 98-59 d and run two iterations of the k-means algorithm. What happens to the clusters?**"
   ]
  },
  {
   "cell_type": "markdown",
   "metadata": {},
   "source": [
    "## Rescaling\n",
    "\n",
    "After discussing with other colleagues at a conference, Alice and Bob became suspicious that the recordings of albedo may be wrong. Following the suggestion of Eve, they are thinking about reducing by half all the recorded values of albedo. They present this possible possible change to you, and ask your opinion. In particular, they are concerned whether this change would affect your results."
   ]
  },
  {
   "cell_type": "markdown",
   "metadata": {},
   "source": [
    "**Apply the transformation to the original data. Then run two iterations of k-means with the same initialization used in the beginning of the exercise. What do you observe? Is k-means sensitive to the suggested transformation?**"
   ]
  },
  {
   "cell_type": "markdown",
   "metadata": {},
   "source": [
    "When halving the observed values of albedo, always round down to the closest integer, e.g. $3.5 \\rightarrow 3$."
   ]
  },
  {
   "cell_type": "markdown",
   "metadata": {},
   "source": [
    "## PCA\n",
    "\n",
    "Alice is very happy with the work done so far. However, whenever collecting a new data point, she finds that computing distances from cluster centers in two dimensions is too computationally expensive. She wonders whether you could come up with a single synthetic index to evaluate new data points as they are collected.\n",
    "\n",
    "You think that a good idea would be to use PCA."
   ]
  },
  {
   "cell_type": "markdown",
   "metadata": {},
   "source": [
    "**How would you justify the use of PCA with respect to the assumptions of PCA?**"
   ]
  },
  {
   "cell_type": "markdown",
   "metadata": {},
   "source": [
    "After explaining to Alice the reasons to use PCA, you proceed to apply the algorithm to project the data in one dimension."
   ]
  },
  {
   "cell_type": "markdown",
   "metadata": {},
   "source": [
    "**Plot the original data according to Alice's hypothesis and draw the first eigenvector**"
   ]
  },
  {
   "cell_type": "markdown",
   "metadata": {},
   "source": [
    "Do not round in PCA."
   ]
  },
  {
   "cell_type": "markdown",
   "metadata": {},
   "source": [
    "Hint: You can either use the *scikit-learn* module for PCA (from sklearn.decomposition import PCA) or your PCA implementation from mandatory exercise 3."
   ]
  },
  {
   "cell_type": "markdown",
   "metadata": {},
   "source": [
    "## Autoencoders\n",
    "\n",
    "Bob has been using standard autoencoders with squared reconstruction loss to compress high-definition images of exoplanets in order to save space. However he has been unhappy with the results, and he has decided to show the original sample \\[3\\]: "
   ]
  },
  {
   "cell_type": "markdown",
   "metadata": {},
   "source": [
    "<img src=\"original.jpg\" width=300 height=300 />"
   ]
  },
  {
   "cell_type": "markdown",
   "metadata": {},
   "source": [
    "and its reconstruction:"
   ]
  },
  {
   "cell_type": "markdown",
   "metadata": {},
   "source": [
    "<img src=\"reconstruction.jpg\" width=300 height=300 />"
   ]
  },
  {
   "cell_type": "markdown",
   "metadata": {},
   "source": [
    "Bob complains that the definition of the exoplanet in the middle of the image is very low. He also explains to you that the exoplanet of interest is always the middle of the picture, while other elements around (such as companions or background stars) are of no interest to him. His computational resources are limited, so, ideally he would prefer not to change the architecture of the autoencoder network by adding more layers or more nodes."
   ]
  },
  {
   "cell_type": "markdown",
   "metadata": {},
   "source": [
    "**How would you recommend changing the autoencoder algorithm to address Bob's challenge?**"
   ]
  },
  {
   "cell_type": "markdown",
   "metadata": {},
   "source": [
    "## Notes\n",
    "\\[1\\] Exoplanet names are real. All the other details are made up.\n",
    "\n",
    "\\[2\\] Example of Manhattan distance:"
   ]
  },
  {
   "cell_type": "code",
   "execution_count": null,
   "metadata": {
    "scrolled": true
   },
   "outputs": [],
   "source": [
    "fig,ax = plt.subplots(1,2, figsize=(6,3))\n",
    "\n",
    "ax[0].set_xlim([0,5])\n",
    "ax[0].set_ylim([0,5])\n",
    "ax[0].scatter([1,3],[1,2],s=50)\n",
    "ax[0].arrow(1,1,0,1,length_includes_head=True,head_width=0.2, head_length=0.2)\n",
    "ax[0].arrow(1,2,1,0,length_includes_head=True,head_width=0.2, head_length=0.2)\n",
    "ax[0].arrow(2,2,1,0,length_includes_head=True,head_width=0.2, head_length=0.2)\n",
    "\n",
    "ax[1].set_xlim([0,5])\n",
    "ax[1].set_ylim([0,5])\n",
    "ax[1].scatter([1,3],[1,2],s=50)\n",
    "ax[1].arrow(1,1,1,0,length_includes_head=True,head_width=0.2, head_length=0.2)\n",
    "ax[1].arrow(2,1,0,1,length_includes_head=True,head_width=0.2, head_length=0.2)\n",
    "ax[1].arrow(2,2,1,0,length_includes_head=True,head_width=0.2, head_length=0.2)"
   ]
  },
  {
   "cell_type": "markdown",
   "metadata": {},
   "source": [
    "The distance between $x=(1,1)$ and $y=(3,2)$ is always $3$ independently from the path."
   ]
  },
  {
   "cell_type": "markdown",
   "metadata": {},
   "source": [
    "\\[3\\] Figure retrieved at [https://www.eso.org/public/images/26a_big-vlt/](https://www.eso.org/public/images/26a_big-vlt/)"
   ]
  }
 ],
 "metadata": {
  "kernelspec": {
   "display_name": ".venv",
   "language": "python",
   "name": "python3"
  },
  "language_info": {
   "codemirror_mode": {
    "name": "ipython",
    "version": 3
   },
   "file_extension": ".py",
   "mimetype": "text/x-python",
   "name": "python",
   "nbconvert_exporter": "python",
   "pygments_lexer": "ipython3",
   "version": "3.13.2"
  },
  "toc": {
   "base_numbering": 1,
   "nav_menu": {},
   "number_sections": true,
   "sideBar": true,
   "skip_h1_title": false,
   "title_cell": "Table of Contents",
   "title_sidebar": "Contents",
   "toc_cell": false,
   "toc_position": {},
   "toc_section_display": true,
   "toc_window_display": true
  }
 },
 "nbformat": 4,
 "nbformat_minor": 2
}
