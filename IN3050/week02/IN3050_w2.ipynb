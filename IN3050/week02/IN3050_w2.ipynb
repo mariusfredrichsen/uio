{
 "cells": [
  {
   "cell_type": "markdown",
   "metadata": {},
   "source": [
    "# IN3050/IN4050 - Week 2\n",
    "## Representations"
   ]
  },
  {
   "cell_type": "markdown",
   "metadata": {},
   "source": [
    "### 1. ![Naming_Question](EA_Terms.png)"
   ]
  },
  {
   "cell_type": "markdown",
   "metadata": {},
   "source": [
    "Name the terms shown in the picture above."
   ]
  },
  {
   "cell_type": "code",
   "execution_count": 1,
   "metadata": {},
   "outputs": [],
   "source": [
    "# Add your solution here\n",
    "# A: Locus\n",
    "\n",
    "# B: Allele\n",
    "\n",
    "# C: Gene\n",
    "\n",
    "# D: Genotype\n",
    "\n",
    "# E: Phenotype"
   ]
  },
  {
   "cell_type": "markdown",
   "metadata": {},
   "source": [
    "### 2. Mention some of the most common representations of genomes."
   ]
  },
  {
   "cell_type": "code",
   "execution_count": 2,
   "metadata": {},
   "outputs": [],
   "source": [
    "# Add your solution here\n",
    "# Integers, Doubles"
   ]
  },
  {
   "cell_type": "markdown",
   "metadata": {},
   "source": [
    "### 3. Perform a mutation operation on the representations given below.\n",
    "\n",
    "binary = $[1, 0, 1, 1]$;\n",
    "integer = $[4, 2, 4, 1]$;\n",
    "real_valued = $[2.53, 1.42, 3.14, 1.68]$;\n",
    "permutation = $[3, 4, 1, 2]$"
   ]
  },
  {
   "cell_type": "code",
   "execution_count": 3,
   "metadata": {},
   "outputs": [],
   "source": [
    "# Add your solution here\n",
    "# binary = [0, 0, 1, 1]\n",
    "# integer = [3, 2, 5, 1]\n",
    "# real_valued = [8.32, 2.34, 1.02, 2.10]\n",
    "# permutation = [2, 3, 4, 1]"
   ]
  },
  {
   "cell_type": "markdown",
   "metadata": {},
   "source": [
    "### 4. Given the sequences (2,4,7,1,3,6,8,9,5) and (5,9,8,6,2,4,1,3,7). Implement these algorithms to create a new pair of solutions: "
   ]
  },
  {
   "cell_type": "markdown",
   "metadata": {},
   "source": [
    "#### a. Partially mapped crossover (PMX)"
   ]
  },
  {
   "cell_type": "code",
   "execution_count": 34,
   "metadata": {},
   "outputs": [
    {
     "name": "stdout",
     "output_type": "stream",
     "text": [
      "[2, 4, 7, 1, 3, 6, 8, 9, 5]\n",
      "[5, 9, 8, 6, 2, 4, 1, 3, 7]\n",
      "\n",
      "[3, 1, 8, 6, 2, 4, 7, 9, 5]\n",
      "[5, 9, 7, 1, 3, 6, 4, 2, 8]\n"
     ]
    }
   ],
   "source": [
    "# Add your solution here\n",
    "from random import randint\n",
    "\n",
    "seq1 = [2,4,7,1,3,6,8,9,5]\n",
    "seq2 = [5,9,8,6,2,4,1,3,7]\n",
    "\n",
    "def pmx_pair(seq1, seq2):\n",
    "    n1, n2 = len(seq1), len(seq2)\n",
    "    c1, c2 = [0] * n1, [0] * n2\n",
    "    \n",
    "    p1, p2 = 2, 6 # randint(0, n1), randint(0, n2)\n",
    "    \n",
    "    cd1 = seq1[p1:p2]\n",
    "    cd2 = seq2[p1:p2]\n",
    "    \n",
    "    x_map = {k:v for k, v in zip(cd1, cd2)}        \n",
    "    x_map_r = {v:k for k, v in x_map.items()}\n",
    "    \n",
    "    for i in range(min(n1,n2)):\n",
    "        if i >= p1 and i < p2:\n",
    "            c1[i] = seq2[i]\n",
    "            c2[i] = seq1[i]\n",
    "        else:\n",
    "            current = seq1[i]\n",
    "            while current in x_map_r:\n",
    "                current = x_map_r[current]\n",
    "            c1[i] = current\n",
    "            \n",
    "            current = seq2[i]\n",
    "            while current in x_map:\n",
    "                current = x_map[current]\n",
    "            c2[i] = current\n",
    "    \n",
    "    return c1, c2\n",
    "\n",
    "a, b = pmx_pair(seq1, seq2)"
   ]
  },
  {
   "cell_type": "markdown",
   "metadata": {},
   "source": [
    "#### b. Order crossover"
   ]
  },
  {
   "cell_type": "code",
   "execution_count": 50,
   "metadata": {},
   "outputs": [
    {
     "data": {
      "text/plain": [
       "([9, 2, 4, 1, 3, 6, 8, 7, 5], [7, 3, 8, 6, 2, 4, 1, 9, 5])"
      ]
     },
     "execution_count": 50,
     "metadata": {},
     "output_type": "execute_result"
    }
   ],
   "source": [
    "# Add your solution here\n",
    "def order_crossover_pair(seq1: list, seq2: list):\n",
    "    n1, n2 = len(seq1), len(seq2)\n",
    "    c1, c2 = seq1.copy(), seq2.copy()\n",
    "    \n",
    "    p1, p2 = 3, 7 # randint(0, n1), randint(0, n2)\n",
    "    \n",
    "    cs1 = set(seq1[p1:p2])\n",
    "    cs2 = set(seq2[p1:p2])\n",
    "    \n",
    "    x = y = p2\n",
    "    seq = seq2\n",
    "    while y != p1:\n",
    "        v = seq[x]\n",
    "        if v not in cs1:\n",
    "            c1[y] = v\n",
    "            y = (y + 1) % n2\n",
    "            cs1.add(v)\n",
    "        x = (x + 1) % n2\n",
    "        if x == p1:\n",
    "            seq = seq1\n",
    "            x = p2\n",
    "    \n",
    "    x = y = p2\n",
    "    seq = seq1\n",
    "    while y != p1:\n",
    "        v = seq[x]\n",
    "        if v not in cs2:\n",
    "            c2[y] = v\n",
    "            y = (y + 1) % n1\n",
    "            cs2.add(v)\n",
    "        x = (x + 1) % n1\n",
    "        if x == p1:\n",
    "            seq = seq2\n",
    "            x = p2\n",
    "    \n",
    "    return c1, c2\n",
    "\n",
    "order_crossover_pair(seq1, seq2)"
   ]
  },
  {
   "cell_type": "markdown",
   "metadata": {},
   "source": [
    "#### c. Cycle crossover"
   ]
  },
  {
   "cell_type": "code",
   "execution_count": 57,
   "metadata": {},
   "outputs": [
    {
     "data": {
      "text/plain": [
       "([2, 4, 7, 1, 3, 6, 8, 9, 5], [5, 9, 8, 6, 2, 4, 1, 3, 7])"
      ]
     },
     "execution_count": 57,
     "metadata": {},
     "output_type": "execute_result"
    }
   ],
   "source": [
    "# Add your solution here\n",
    "def cycle_crossover_pair(seq1: list, seq2: list):\n",
    "    n1, n2 = len(seq1), len(seq2)\n",
    "    c1, c2 = seq1.copy(), seq2.copy()\n",
    "    \n",
    "    cd2 = {s:i for i, s in enumerate(seq2)}\n",
    "    \n",
    "    visited = set()\n",
    "    current = seq1[0]\n",
    "    while current not in visited:\n",
    "        if current in visited:\n",
    "            return\n",
    "        visited.add(current)\n",
    "        i = cd2[current]\n",
    "        current = seq1[i]\n",
    "    \n",
    "    for i, v in enumerate(c1):\n",
    "        if v in visited:\n",
    "            continue\n",
    "        c1[i], c2[i] = c2[i], c1[i]\n",
    "\n",
    "    return c1, c2\n",
    "    \n",
    "    \n",
    "    \n",
    "cycle_crossover_pair(seq1, seq2)"
   ]
  },
  {
   "cell_type": "markdown",
   "metadata": {},
   "source": [
    "#### Test crossovers"
   ]
  },
  {
   "cell_type": "code",
   "execution_count": 58,
   "metadata": {},
   "outputs": [
    {
     "name": "stdout",
     "output_type": "stream",
     "text": [
      "Parents: [2, 4, 7, 1, 3, 6, 8, 9, 5] and [5, 9, 8, 6, 2, 4, 1, 3, 7]\n",
      "Children after PMX: [3, 1, 8, 6, 2, 4, 7, 9, 5] and [5, 9, 7, 1, 3, 6, 4, 2, 8]\n",
      "Children after Order Crossover: [9, 2, 4, 1, 3, 6, 8, 7, 5] and [7, 3, 8, 6, 2, 4, 1, 9, 5]\n",
      "Children after Cycle Crossover: [2, 4, 7, 1, 3, 6, 8, 9, 5] and [5, 9, 8, 6, 2, 4, 1, 3, 7]\n"
     ]
    }
   ],
   "source": [
    "a = [2, 4, 7, 1, 3, 6, 8, 9, 5]\n",
    "b = [5, 9, 8, 6, 2, 4, 1, 3, 7]\n",
    "c, d = pmx_pair(a, b)\n",
    "e, f = order_crossover_pair(a, b)\n",
    "g, h = cycle_crossover_pair(a, b)\n",
    "print(f\"Parents: {a} and {b}\")\n",
    "print(f\"Children after PMX: {c} and {d}\")\n",
    "print(f\"Children after Order Crossover: {e} and {f}\")\n",
    "print(f\"Children after Cycle Crossover: {g} and {h}\")"
   ]
  },
  {
   "cell_type": "code",
   "execution_count": null,
   "metadata": {},
   "outputs": [],
   "source": []
  }
 ],
 "metadata": {
  "kernelspec": {
   "display_name": "Python 3 (ipykernel)",
   "language": "python",
   "name": "python3"
  },
  "language_info": {
   "codemirror_mode": {
    "name": "ipython",
    "version": 3
   },
   "file_extension": ".py",
   "mimetype": "text/x-python",
   "name": "python",
   "nbconvert_exporter": "python",
   "pygments_lexer": "ipython3",
   "version": "3.11.10"
  }
 },
 "nbformat": 4,
 "nbformat_minor": 4
}
