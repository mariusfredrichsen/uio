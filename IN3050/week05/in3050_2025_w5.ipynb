{
 "cells": [
  {
   "cell_type": "markdown",
   "metadata": {},
   "source": [
    "# IN3050/IN4050 2025: Week 05, Perceptron\n",
    "### Introduction\n",
    "The goal of this week's exercise set is to get familiar with the perceptron classifier.\n",
    "The set has two parts.\n",
    "The first part does not involve programming or Python.\n",
    "The questions in this part are the type of questions you will meet at the exam.\n",
    "They can (and should) be solved by pen and paper or a word processor and, eventually, a calculator.\n",
    "\n",
    "The second part involves implementations in Python."
   ]
  },
  {
   "cell_type": "markdown",
   "metadata": {},
   "source": [
    "## Part 1: Exam type exercises"
   ]
  },
  {
   "cell_type": "markdown",
   "metadata": {},
   "source": [
    "### Exercise I\n",
    "You want to predict if movies will be profitable based on their screenplays. You hire two critics A and B to read a script you have and rate it on a scale of 1 to 6. The critics are not perfect; here are five data points including the critics' scores and the performance of the movie:\n",
    "```\n",
    "| Movie # | Alice    | Bob       | Profitable? |\n",
    "|  _______|__________|___________|_____________|\n",
    "|  1      | 1        | 1         |      no     |\n",
    "|  _______|__________|___________|_____________|\n",
    "|  2      | 4        | 3         |      yes    |\n",
    "|  _______|__________|___________|_____________|\n",
    "|  3      | 3        | 5         |      yes    |\n",
    "|  _______|__________|___________|_____________|\n",
    "|  4      | 5        | 6         |      yes    |\n",
    "|  _______|__________|___________|_____________|\n",
    "|  5      | 2        | 3         |      no     |\n",
    "|  _______|__________|___________|_____________|\n",
    "```\n",
    "Is the data linearly separable? Plot the data on a sheet of paper; label profitable movies with + and non-profitable movies with x and determine if the data are linearily separable."
   ]
  },
  {
   "cell_type": "markdown",
   "metadata": {},
   "source": [
    "### Exercise II\n",
    "\n",
    "You decide to use a perceptron to classify your data. \n",
    "Suppose you directly use the scores given above as features,\n",
    "$x_1=$ score given by A and $x_2=$ score given by B.\n",
    "You also add a bias term in position 0, $x_0=-1$.\n",
    "\n",
    "Run one pass through the data with the perceptron algorithm, filling out the table below. \n",
    "Go through the data points in order, e.g., using data from movie 1 at step 1. \n",
    "Suppose we start with the weights $(w_0, w_1, w_2)=(1,0,0)$. \n",
    "Use $1$ as learning rate.\n",
    "\n",
    "For each of the 5 steps, write the \n",
    "the score, and whether the prediction is correct.\n",
    "Calculate the new weights, enter them at the next line and repeat.\n",
    "\n",
    "```\n",
    "| Step | Weights    | Score                     | Correct prediction? |\n",
    "_______|____________|___________________________|______________________|\n",
    "|  1   | (1, 0, 0)  | 1*(-1) + 0*1 + 0 * 1 = -1 |      yes             |\n",
    "_______|____________|___________________________|______________________|\n",
    "|  2   |            |                           |                      |\n",
    "_______|____________|___________________________|______________________|\n",
    "|  3   |            |                           |                      |\n",
    "_______|____________|___________________________|______________________|\n",
    "|  4   |            |                           |                      |\n",
    "_______|____________|___________________________|______________________|\n",
    "|  5   |            |                           |                      |\n",
    "_______|____________|___________________________|______________________|\n",
    "|      |            |\n",
    "|______|____________|\n",
    "\n",
    "```"
   ]
  },
  {
   "cell_type": "markdown",
   "metadata": {},
   "source": [
    "### Exercise III\n",
    "Have weights been learned that separate the data? \n",
    "Plot the data together with the decision boundary given by the weigths which you are left with after you have run all the data points the first round in the previous question."
   ]
  },
  {
   "cell_type": "markdown",
   "metadata": {},
   "source": [
    "### Exercise IV\n",
    "More generally, irrespective of the training data, you want to know if your features are powerful enough to allow you to handle a range of scenarios. Which of the following scenarios can a perceptron using the features above  indeed perfectly classify movies which are profitable according to the given rules:\n",
    "\n",
    "1. Your reviewers are awesome: if the total of their scores is more than 8, then the movie will definitely be profitable, and otherwise it won't be.\n",
    "\n",
    "2. Your reviewers are art critics. Your movie will be profitable if and only if each reviewer gives either a score of 3 or a score of 4.\n",
    "\n",
    "3. Your reviewers have weird but different tastes. Your movie will be profitable if and only if both reviewers agree."
   ]
  },
  {
   "cell_type": "markdown",
   "metadata": {},
   "source": [
    "## Part 2: Implementing the Perceptron Classifier"
   ]
  },
  {
   "cell_type": "markdown",
   "metadata": {},
   "source": [
    "### Exercise V\n",
    "We will implement the perceptron classifier. We will implement it as a class similarly to how we implemented the *k*NN-classifier last week. You should implement the two methods `fit` and `predict`. You don't need an `__init__` method. You may include other methods if you find them convenient.\n",
    "\n",
    "The main part of the perceptron classifier is the `fit` method that trains the perceptron.\n",
    "`eta` is the learning rate.\n",
    "One `epoch` is a run through all the training data.\n",
    "We have set the default to one epoch, but you might need more.\n",
    "Remember to add the bias to the data."
   ]
  },
  {
   "cell_type": "code",
   "execution_count": 1,
   "metadata": {},
   "outputs": [],
   "source": [
    "class PyClassifier():\n",
    "    \"\"\"Common methods to all Python classifiers --- if any\n",
    "    \n",
    "    Nothing here yet\"\"\""
   ]
  },
  {
   "cell_type": "code",
   "execution_count": 2,
   "metadata": {},
   "outputs": [],
   "source": [
    "class PyPerClassifier(PyClassifier):\n",
    "    \"\"\"Simple perceptron python classifier\"\"\"\n",
    "    \n",
    "    def fit(self, X_train, y_train, eta=1, epochs=1):\n",
    "        \"\"\"Train the self.weights on the training data with learning\n",
    "        rate eta, running epochs many epochs\"\"\"\n",
    "        \n",
    "    \n",
    "    def predict(self, X):\n",
    "        \"\"\"Predict the class for the items (in the list) X\"\"\"\n"
   ]
  },
  {
   "cell_type": "markdown",
   "metadata": {},
   "source": [
    "## Dataset\n",
    "We will train and test the classifier on the same sythetic dataset as we used for the *k*NN last week."
   ]
  },
  {
   "cell_type": "code",
   "execution_count": 11,
   "metadata": {},
   "outputs": [],
   "source": [
    "from sklearn.datasets import make_blobs\n",
    "import pylab as plt\n",
    "X_np, y_np = make_blobs(n_samples=200, centers=[[0,0],[1,2]], \n",
    "                  n_features=2, random_state=2019)\n",
    "X1 = [(X_np[i,0], X_np[i,1]) for i in range(X_np.shape[0])]\n",
    "t1 = [y_np[i] for i in range(X_np.shape[0])]"
   ]
  },
  {
   "cell_type": "code",
   "execution_count": 12,
   "metadata": {},
   "outputs": [],
   "source": [
    "def show(X, y, marker='.'):\n",
    "    labels = set(y)\n",
    "    cl = {lab : [] for lab in labels}\n",
    "    # cl[lab] shall contain the datapoints labeled lab\n",
    "    for (a, b) in zip(X, y):\n",
    "        cl[b].append(a)\n",
    "    for lab in labels:\n",
    "        plt.plot([a[0] for a in cl[lab]], [a[1] for a in cl[lab]], \n",
    "                 marker, label=\"class {}\".format(lab))\n",
    "    plt.legend()"
   ]
  },
  {
   "cell_type": "code",
   "execution_count": 13,
   "metadata": {},
   "outputs": [
    {
     "data": {
      "image/png": "[encoded data removed]",
      "text/plain": [
       "<Figure size 432x288 with 1 Axes>"
      ]
     },
     "metadata": {
      "needs_background": "light"
     },
     "output_type": "display_data"
    }
   ],
   "source": [
    "show(X1, t1)"
   ]
  },
  {
   "cell_type": "code",
   "execution_count": 14,
   "metadata": {},
   "outputs": [],
   "source": [
    "X_np, y_np = make_blobs(n_samples=200, centers=[[0,0],[1,2]], \n",
    "                  n_features=2, random_state=2020)\n",
    "X2 = [(X_np[i,0], X_np[i,1]) for i in range(X_np.shape[0])]\n",
    "t2 = [y_np[i] for i in range(X_np.shape[0])]"
   ]
  },
  {
   "cell_type": "markdown",
   "metadata": {},
   "source": [
    "### Exercise VI\n",
    "Train PyPerClassifier on  X1, t1 and test on X2, t2 as with the *k*NN-classifier. Try various numbers of epochs and see whether it makes a difference.\n",
    "\n",
    "Is X2, t2 linearly separable?\n",
    "\n",
    "How does the results compare to the *k*NN classifier from last week?"
   ]
  },
  {
   "cell_type": "markdown",
   "metadata": {},
   "source": [
    "### Exercise VII: Termination and Weights\n",
    "\n",
    "- Modify the *fit*-method of the classifier such that training halts when there are no more updates, and it is possible to inspect how many epochs it took.\n",
    "- Run this on the five points film critics dataset. How many epochs does it take to reach completion?\n",
    "- What are the final weights? Can you plot the decision boundary that corresponds to these weights together with the data set?"
   ]
  }
 ],
 "metadata": {
  "kernelspec": {
   "display_name": "Python 3 (ipykernel)",
   "language": "python",
   "name": "python3"
  },
  "language_info": {
   "codemirror_mode": {
    "name": "ipython",
    "version": 3
   },
   "file_extension": ".py",
   "mimetype": "text/x-python",
   "name": "python",
   "nbconvert_exporter": "python",
   "pygments_lexer": "ipython3",
   "version": "3.12.3"
  }
 },
 "nbformat": 4,
 "nbformat_minor": 4
}
