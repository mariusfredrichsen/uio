{
 "cells": [
  {
   "cell_type": "markdown",
   "metadata": {},
   "source": [
    "# IN3050/IN4050 - Week 3"
   ]
  },
  {
   "cell_type": "markdown",
   "metadata": {},
   "source": [
    "## Preserving Diversity\n",
    "\n",
    "### 1. Why do we want to preserve diversity?"
   ]
  },
  {
   "cell_type": "markdown",
   "metadata": {},
   "source": [
    "We want to keep it diverse so we don't move away from looking at different solutions that could lead to a potential global maxima."
   ]
  },
  {
   "cell_type": "markdown",
   "metadata": {},
   "source": [
    "### 2. What are the main differences between explicit and implicit approaches?"
   ]
  },
  {
   "cell_type": "markdown",
   "metadata": {},
   "source": [
    "### Explicit approach:\n",
    "With this approach you go in and make changes so that you favor individuals yourself.\n",
    "\n",
    "### Implicit approach:\n",
    "With this approach you will before hand made the algorithm in a way that keeps the diversity by design."
   ]
  },
  {
   "cell_type": "markdown",
   "metadata": {},
   "source": [
    "## Pareto Optimality\n",
    "\n",
    "![front_points_1 \\label{front_points_1}](front_points_1.png) <center>Figure 1 a</center>\n",
    "![front_points_2](front_points_2.png) <center>Figure 1 b</center>\n",
    "\n",
    "### 3. For figure a and b above, find the Pareto optimal set when\n",
    "* Minimizing both x and y\n",
    "* Minimizing x, maximizing y\n",
    "* Maximizing x, minimizing y\n",
    "* Maximizing both x and y"
   ]
  },
  {
   "cell_type": "markdown",
   "metadata": {},
   "source": [
    "### Minimizing both x and y\n",
    "1a: 1, 2, 5, 7<br>\n",
    "1b: 1\n",
    "\n",
    "### Minimizing x, maximizing y\n",
    "1a: 1, 3<br>\n",
    "1b: 1, 2, 3, 4\n",
    "\n",
    "### Maximizing x, minimizing y\n",
    "1a: 7, 8<br>\n",
    "1b: 1, 2, 5, 7, 8\n",
    "\n",
    "### Maximizing both x and y\n",
    "1a: 3, 4, 6, 8<br>\n",
    "1b: 4, 6, 8"
   ]
  },
  {
   "cell_type": "markdown",
   "metadata": {},
   "source": [
    "## Hybrid Algorithms\n",
    "### 4. Why can hybrid algorithms make it harder to maintain diversity?"
   ]
  },
  {
   "cell_type": "markdown",
   "metadata": {},
   "source": [
    "Maybe: If you make the algorithm more effecient the easier it is to speed ahead to a local maxima\n",
    "\n",
    "It's easier to make indiviuals that overtakes the population because thats what the hybrid algorithm is designed to do towards the end. With a hybrid algorithm we're intrested in making a individual that looks alike the niche we're givin from the start with the background knowledge we have already aquired."
   ]
  },
  {
   "cell_type": "markdown",
   "metadata": {},
   "source": [
    "## Applying Evolutionary Algorithms\n",
    "\n",
    "### 5. Drone Example\n",
    "Consider the following problem of designing a drone body with the goal of flying as fast as possible. Down below is a simple example of the drone body and some characteristics of the body that could be used. We want to solve this using an Evolutionary Algorithm. Write down some ways of solving the following points of the problem. (No code needed, just explain your choices)\n",
    "\n",
    "1. Fitness function for evaluating?\n",
    "2. What representation to use?\n",
    "3. Mutation, Crossovers\n",
    "4. Parent selection and survivor selection\n",
    "5. End condition\n",
    "![drone_problem](drone.png)"
   ]
  },
  {
   "cell_type": "markdown",
   "metadata": {},
   "source": [
    "### Fitness function for evaluating?\n",
    "Based on the phenotype (which is based on the genotype) you evaluate the distance the drone covers in 10 seconds for example.\n",
    "\n",
    "### What representation to use?\n",
    "An array with 4 float values that represent the different lengths in the different parts of the drone. We can also add a limit of 1.0 to 10.0 if that is wanted.\n",
    "\n",
    "### Mutation, Crossovers\n",
    "Intermediate Recombination: Take the average between two parents for a offspring. There is also a variable that can randomly favor one of the parents in the \"average\".\n",
    "Discreet Recombination: Cut and paste together the different genotypes.\n",
    "\n",
    "### Parent selection and survivor selection\n",
    "Eliteism: Keep one elite individual for each generation so we dont miss out on a good solution.\n",
    "Use Fitness sharing or Crowding to prevent the individuals from converging to a local maxima rather than a maxima close to the global one.\n",
    "\n",
    "### End condition\n",
    "After 1000 generations or when the best solution havent improved with a margin.\n"
   ]
  },
  {
   "cell_type": "markdown",
   "metadata": {},
   "source": []
  }
 ],
 "metadata": {
  "kernelspec": {
   "display_name": "Python 3 (ipykernel)",
   "language": "python",
   "name": "python3"
  },
  "language_info": {
   "codemirror_mode": {
    "name": "ipython",
    "version": 3
   },
   "file_extension": ".py",
   "mimetype": "text/x-python",
   "name": "python",
   "nbconvert_exporter": "python",
   "pygments_lexer": "ipython3",
   "version": "3.12.8"
  }
 },
 "nbformat": 4,
 "nbformat_minor": 4
}
